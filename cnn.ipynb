{
  "nbformat": 4,
  "nbformat_minor": 0,
  "metadata": {
    "colab": {
      "name": "cnn.ipynb",
      "provenance": [],
      "authorship_tag": "ABX9TyMyiuiu2txqNBhXB6taqzuz",
      "include_colab_link": true
    },
    "kernelspec": {
      "name": "python3",
      "display_name": "Python 3"
    }
  },
  "cells": [
    {
      "cell_type": "markdown",
      "metadata": {
        "id": "view-in-github",
        "colab_type": "text"
      },
      "source": [
        "<a href=\"https://colab.research.google.com/github/mahamapara/Trunks-Logs-Object-Classification/blob/master/cnn.ipynb\" target=\"_parent\"><img src=\"https://colab.research.google.com/assets/colab-badge.svg\" alt=\"Open In Colab\"/></a>"
      ]
    },
    {
      "cell_type": "markdown",
      "metadata": {
        "id": "F7UAERgG6st7"
      },
      "source": [
        "4.1 Generate a bunch of images\n",
        "Let’s make a training data set with 50 images of squares and 50 images of triangles."
      ]
    },
    {
      "cell_type": "code",
      "metadata": {
        "id": "WDwsUIsz5iK2"
      },
      "source": [
        " np.random.seed(5434)\n",
        "(train_x, train_y) = sim_data(n = 50, img_dim = 24, radius = 3)\n",
        "(val_x, val_y) = sim_data(n = 50, img_dim = 24, radius = 3)\n",
        "print(train_x.shape)\n",
        "print(train_y.shape)"
      ],
      "execution_count": null,
      "outputs": []
    },
    {
      "cell_type": "markdown",
      "metadata": {
        "id": "faGr1PtY6zjd"
      },
      "source": [
        "For estimation to work, we need to standardize the data. For image data, the most common way\n",
        "to do this is to just divide everything by 255 to values between 0 and 1."
      ]
    },
    {
      "cell_type": "code",
      "metadata": {
        "id": "-IykX7yk6z3_"
      },
      "source": [
        "train_x_scaled = train_x.astype(float) / 255\n",
        "val_x_scaled = val_x.astype(float) / 255"
      ],
      "execution_count": null,
      "outputs": []
    },
    {
      "cell_type": "markdown",
      "metadata": {
        "id": "555lS95G65qp"
      },
      "source": [
        "4.1.1 First Keras Model\n",
        "Exactly the same structure as our hand-made model above."
      ]
    },
    {
      "cell_type": "code",
      "metadata": {
        "id": "GBCuv_oX650P"
      },
      "source": [
        "model1 = models.Sequential()\n",
        "model1.add(layers.Conv2D(5, (5, 5), activation = 'relu', input_shape = (24, 24,␣\n",
        ",→1)))\n",
        "model1.add(layers.MaxPooling2D((2, 2)))\n",
        "model1.add(layers.Conv2D(6, (3, 3), activation = 'relu'))\n",
        "model1.add(layers.Flatten())\n",
        "model1.add(layers.Dense(1, activation = 'sigmoid'))\n",
        "model1.compile(optimizer = 'adam', loss = 'binary_crossentropy', metrics =␣\n",
        ",→['accuracy'])\n",
        "model1.fit(train_x_scaled, train_y, epochs = 250, batch_size = 100,␣\n",
        ",→validation_data = (val_x_scaled, val_y))\n"
      ],
      "execution_count": null,
      "outputs": []
    },
    {
      "cell_type": "code",
      "metadata": {
        "id": "hYDbi6qC7Hjo"
      },
      "source": [
        "model1.summary()"
      ],
      "execution_count": null,
      "outputs": []
    },
    {
      "cell_type": "markdown",
      "metadata": {
        "id": "jU94ZfmL7HZ2"
      },
      "source": [
        "4.3 Visualizing Keras Model Activations"
      ]
    },
    {
      "cell_type": "code",
      "metadata": {
        "id": "qFmyxyqh7PNl"
      },
      "source": [
        " # extract a list with the outputs from all layers in the model\n",
        "layer_outputs = [layer.output for layer in model1.layers]\n",
        "print(layer_outputs)\n",
        "# create a new model with all these layers as outputs\n",
        "# instead of 1 output layer at the end, we get to see the outputs from every␣\n",
        ",→layer\n",
        "activation_model = models.Model(inputs = model1.input, outputs = layer_outputs)\n"
      ],
      "execution_count": null,
      "outputs": []
    },
    {
      "cell_type": "code",
      "metadata": {
        "id": "Bf9XynWL7Sz6"
      },
      "source": [
        "# call predict to get the activations for a square and a triangle\n",
        "input_img = val_x[0:1,...]\n",
        "activations = activation_model.predict(input_img)\n",
        "#tri_activations = activation_model.predict(val_x[1:2,...])\n",
        "fig, axs = plt.subplots(2, 6, figsize=(12, 5))\n",
        "axs[0,0].imshow(input_img[0, :, :, 0], cmap = \"gray\")\n",
        "axs[0,0].set_title(\"input\")\n",
        "# layer 0 activations\n",
        "for i in range(5):\n",
        "axs[0, i+1].imshow(activations[0][0,:,:,i], cmap = \"gray\")\n",
        "axs[0, i+1].set_title(\"layer 0, channel \" + str(i))\n",
        "# layer 2 activations\n",
        "for i in range(6):\n",
        "axs[1, i].imshow(activations[2][0,:,:,i], cmap = \"gray\")\n",
        "axs[1, i].set_title(\"layer 2, channel \" + str(i))"
      ],
      "execution_count": null,
      "outputs": []
    },
    {
      "cell_type": "code",
      "metadata": {
        "id": "FOtIETjq7V_I"
      },
      "source": [
        "# call predict to get the activations for a square and a triangle\n",
        "input_img = val_x[50:51,...]\n",
        "activations = activation_model.predict(input_img)\n",
        "#tri_activations = activation_model.predict(val_x[1:2,...])\n",
        "fig, axs = plt.subplots(2, 6, figsize=(12, 5))\n",
        "axs[0,0].imshow(input_img[0, :, :, 0], cmap = \"gray\")\n",
        "axs[0,0].set_title(\"input\")\n",
        "# layer 0 activations\n",
        "for i in range(5):\n",
        "axs[0, i+1].imshow(activations[0][0,:,:,i], cmap = \"gray\")\n",
        "axs[0, i+1].set_title(\"layer 0, channel \" + str(i))\n",
        "# layer 2 activations\n",
        "for i in range(6):\n",
        "axs[1, i].imshow(activations[2][0,:,:,i], cmap = \"g"
      ],
      "execution_count": null,
      "outputs": []
    }
  ]
}